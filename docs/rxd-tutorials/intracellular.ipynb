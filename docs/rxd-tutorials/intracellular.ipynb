{
 "cells": [
  {
   "cell_type": "markdown",
   "id": "54ce04a3",
   "metadata": {},
   "source": [
    "# 3D/Hybrid intracellular tutorial"
   ]
  },
  {
   "cell_type": "markdown",
   "id": "514a0f86",
   "metadata": {},
   "source": [
    "## 3D/Hybrid intracellular tutorial"
   ]
  },
  {
   "cell_type": "markdown",
   "id": "d4b19d9e",
   "metadata": {},
   "source": [
    "We have expanded the capabilities of the NEURON reaction diffusion module to support pure 3D and 1D/3D hybrid intracellular simulations. This tutorial provides an overview of how to set up a simple travelling wave in both cases."
   ]
  },
  {
   "cell_type": "markdown",
   "id": "ad8e8291",
   "metadata": {},
   "source": [
    "### Download Files"
   ]
  },
  {
   "cell_type": "markdown",
   "id": "6650ccfa",
   "metadata": {},
   "source": [
    "Download the following .ses file and save it in your working directory:"
   ]
  },
  {
   "cell_type": "code",
   "execution_count": null,
   "id": "e47621b7",
   "metadata": {},
   "outputs": [],
   "source": [
    "!curl -o c91662.ses \"https://modeldb.science/getModelFile?model=87284&file=CA1_abeta/c91662.ses\""
   ]
  },
  {
   "cell_type": "markdown",
   "id": "dfa22468",
   "metadata": {},
   "source": [
    "This is a saved session file of a loaded morphology from <a href=https://neuromorpho.org/>NeuroMorpho.org</a>. If you would like to see how to load the morphology from an .swc file, see <a href=https://nrn.readthedocs.io/en/latest/rxd-tutorials/extracellular.html/>this example</a>"
   ]
  },
  {
   "cell_type": "markdown",
   "id": "0a79943c",
   "metadata": {},
   "source": [
    "### Getting Started"
   ]
  },
  {
   "cell_type": "markdown",
   "id": "4bc4966e",
   "metadata": {},
   "source": [
    "To run 3D reaction diffusion simulations, begin by import the rxd module.\n",
    "\n"
   ]
  },
  {
   "cell_type": "code",
   "execution_count": null,
   "id": "f3649e04",
   "metadata": {},
   "outputs": [],
   "source": [
    "from neuron import h, rxd"
   ]
  },
  {
   "cell_type": "markdown",
   "id": "85dfab53",
   "metadata": {},
   "source": [
    "Next, we load the .ses file to access the cell we will perform our simulation with\n",
    "\n"
   ]
  },
  {
   "cell_type": "code",
   "execution_count": null,
   "id": "9d170fbe",
   "metadata": {},
   "outputs": [],
   "source": [
    "h.load_file(\"stdrun.hoc\")\n",
    "h.load_file(\"c91662.ses\")"
   ]
  },
  {
   "cell_type": "markdown",
   "id": "d68161bd",
   "metadata": {},
   "source": [
    "We tell NEURON that we want all sections to be in 3 dimensions."
   ]
  },
  {
   "cell_type": "code",
   "execution_count": null,
   "id": "875ac0d7",
   "metadata": {},
   "outputs": [],
   "source": [
    "rxd.set_solve_type(h.allsec(), dimension=3)"
   ]
  },
  {
   "cell_type": "markdown",
   "id": "7a7e0b8b",
   "metadata": {},
   "source": [
    "3D Intracellular reaction diffusion supports multithreaded parallelization\n",
    "\n"
   ]
  },
  {
   "cell_type": "code",
   "execution_count": null,
   "id": "a6837674",
   "metadata": {},
   "outputs": [],
   "source": [
    "rxd.nthread(4)"
   ]
  },
  {
   "cell_type": "markdown",
   "id": "03775624",
   "metadata": {},
   "source": [
    "Now we can define our reaction diffusion equations. We use the same Who, Where, How interface as the same Where/Who/How scheme as with 1D and extracellular reaction diffusion. Here we define a species ca on all sections of our cell with an initial concentration of 1 in a non-soma section and a concentration of 0 everywhere else."
   ]
  },
  {
   "cell_type": "code",
   "execution_count": null,
   "id": "e0b1522a",
   "metadata": {},
   "outputs": [],
   "source": [
    "r = rxd.Region(h.allsec(), nrn_region=\"i\", dx=0.17)\n",
    "ca = rxd.Species(\n",
    "    r,\n",
    "    d=0.25,\n",
    "    name=\"ca\",\n",
    "    charge=2,\n",
    "    initial=lambda node: 1 if node.sec in [h.apic[8]] else 0,\n",
    ")\n",
    "bistable_reaction = rxd.Rate(ca, -ca * (1 - ca) * (0.01 - ca))\n",
    "h.dt = 0.1  # We choose dt = 0.1 here because the ratio of d * dt / dx**2 must be less than 1\n",
    "h.finitialize(-65)"
   ]
  },
  {
   "cell_type": "markdown",
   "id": "071c0459",
   "metadata": {},
   "source": [
    "We are now ready to run the simulation, but first we will write a function to make a contour plot on a 2D projection of the cell to illustrate the wave's propagation. We are hardcoding the x and y limits to make the plot appear larger in Jupyter. If you are not running in Jupyter, you can comment out the lines:"
   ]
  },
  {
   "cell_type": "markdown",
   "id": "3917321d",
   "metadata": {},
   "source": [
    "```python\n",
    "plt.axis('auto')\n",
    "plt.gca().set_xlim(750,1750)\n",
    "plt.gca().set_ylim(1200,2900)\n",
    "```"
   ]
  },
  {
   "cell_type": "markdown",
   "id": "e4385eb5",
   "metadata": {},
   "source": [
    "and uncomment the <tt>plt.axis('equal')<tt> line and zoom in on the areas of interest."
   ]
  },
  {
   "cell_type": "code",
   "execution_count": null,
   "id": "595cb46c",
   "metadata": {},
   "outputs": [],
   "source": [
    "import numpy as np\n",
    "from matplotlib import pyplot as plt\n",
    "from neuron.rxd.node import Node3D\n",
    "\n",
    "\n",
    "def plot_contours(species):\n",
    "    r = species.nodes[0].region\n",
    "    xz = np.empty((max(r._xs) + 1, max(r._zs) + 1))\n",
    "    xz.fill(np.nan)\n",
    "\n",
    "    def replace_nans(a, b):\n",
    "        if np.isnan(a):\n",
    "            return b\n",
    "        return max(a, b)\n",
    "\n",
    "    for node in species.nodes:\n",
    "        if isinstance(node, Node3D):\n",
    "            xz[node._i, node._k] = replace_nans(xz[node._i, node._k], node.value)\n",
    "    xs, ys = np.meshgrid(range(xz.shape[1]), range(xz.shape[0]))\n",
    "    plt.contour(xs, ys, np.nan_to_num(xz), colors=\"k\", linewidths=0.5)\n",
    "    plt.axis(\"auto\")\n",
    "    plt.gca().set_xlim(750, 1750)\n",
    "    plt.gca().set_ylim(1200, 2900)\n",
    "    # plt.axis('equal')\n",
    "    plt.axis(\"off\")"
   ]
  },
  {
   "cell_type": "markdown",
   "id": "b04786f9",
   "metadata": {},
   "source": [
    "We will draw a contour every 20 ms"
   ]
  },
  {
   "cell_type": "code",
   "execution_count": null,
   "id": "133b5c9a",
   "metadata": {},
   "outputs": [],
   "source": [
    "plt.figure(figsize=(15, 20))\n",
    "for i in range(5):\n",
    "    h.continuerun(i * 20)\n",
    "    plot_contours(ca)\n",
    "plt.show()"
   ]
  },
  {
   "cell_type": "markdown",
   "id": "f82716ac",
   "metadata": {},
   "source": [
    "## Hybrid Example"
   ]
  },
  {
   "cell_type": "markdown",
   "id": "9bb119c8",
   "metadata": {},
   "source": [
    "We can perfrom the same simulation but instead of simulating all the sections in 3D, we can tell NEURON to only make the soma and surrounding areas in 3D while the rest of the cell will be simulated in 1D. Simulating the majority of the cell in 1D vastly decreases the runtime while maintaining the accuracy of the simulation."
   ]
  },
  {
   "cell_type": "markdown",
   "id": "7a2ae1a1",
   "metadata": {},
   "source": [
    "We begin again by importing rxd and loading the relevant files, and setting the number of threads"
   ]
  },
  {
   "cell_type": "code",
   "execution_count": null,
   "id": "d81531df",
   "metadata": {},
   "outputs": [],
   "source": [
    "from neuron import h, rxd\n",
    "\n",
    "h.load_file(\"stdrun.hoc\")\n",
    "h.load_file(\"c91662.ses\")\n",
    "rxd.nthread(4)"
   ]
  },
  {
   "cell_type": "markdown",
   "id": "d3013404",
   "metadata": {},
   "source": [
    "Now we have to tell NEURON which sections we want to make 3D vs 1D. The defualt behavior is to do everything in 1D. However, we can send in a section or list of sections to make 3D."
   ]
  },
  {
   "cell_type": "markdown",
   "id": "d2b1fa32",
   "metadata": {},
   "source": [
    "Here we choose the soma, the first two sections of apic, and all the basal dendrites to be in 3D\n",
    "\n"
   ]
  },
  {
   "cell_type": "code",
   "execution_count": null,
   "id": "caf15070",
   "metadata": {},
   "outputs": [],
   "source": [
    "secs3d = [h.soma, h.apic[0], h.apic[1]] + [\n",
    "    dend for dend in h.allsec() if \"basal\" in str(dend)\n",
    "]\n",
    "rxd.set_solve_type(secs3d, dimension=3)\n",
    "\n",
    "# Set nseg for our 1D sections\n",
    "secs1d = [sec for sec in h.allsec() if sec not in secs3d]\n",
    "for sec in secs1d:\n",
    "    sec.nseg = 11"
   ]
  },
  {
   "cell_type": "markdown",
   "id": "0680ae86",
   "metadata": {},
   "source": [
    "We will use the same rxd equations and a slightly modified plot_contours function for the 3D portion. As before, we are hardcoding the x and y limits to make the plot more visible in Jupyter. We also need to plot the wave in the 1D portion of the cell. For this we will use a RangeVarPlot"
   ]
  },
  {
   "cell_type": "code",
   "execution_count": null,
   "id": "172a7ce8",
   "metadata": {},
   "outputs": [],
   "source": [
    "import numpy as np\n",
    "from matplotlib import pyplot as plt\n",
    "from neuron.rxd.node import Node3D\n",
    "\n",
    "\n",
    "def plot_contours(species):\n",
    "    r = species.nodes[0].region\n",
    "    xz = np.empty((max(r._xs) + 1, max(r._zs) + 1))\n",
    "    xz.fill(np.nan)\n",
    "\n",
    "    def replace_nans(a, b):\n",
    "        if np.isnan(a):\n",
    "            return b\n",
    "        return max(a, b)\n",
    "\n",
    "    for node in ca.nodes:\n",
    "        if isinstance(node, Node3D):\n",
    "            xz[node._i, node._k] = replace_nans(xz[node._i, node._k], node.value)\n",
    "    xs, ys = np.meshgrid(range(xz.shape[1]), range(xz.shape[0]))\n",
    "    plt.contour(xs, ys, np.nan_to_num(xz), colors=\"k\", linewidths=0.5)\n",
    "    plt.axis(\"auto\")\n",
    "    plt.gca().set_xlim(600, 1100)\n",
    "    plt.gca().set_ylim(1000, 1920)\n",
    "    # plt.axis('equal')\n",
    "    plt.axis(\"off\")"
   ]
  },
  {
   "cell_type": "code",
   "execution_count": null,
   "id": "5323c34b",
   "metadata": {},
   "outputs": [],
   "source": [
    "r = rxd.Region(h.allsec(), nrn_region=\"i\", dx=0.17)\n",
    "ca1 = rxd.Species(\n",
    "    r,\n",
    "    d=0.25,\n",
    "    name=\"ca1\",\n",
    "    charge=2,\n",
    "    initial=lambda node: 1 if node.sec in [h.apic[8]] else 0,\n",
    ")\n",
    "bistable_reaction = rxd.Rate(ca1, -ca1 * (1 - ca1) * (0.01 - ca1))\n",
    "h.dt = 0.3  # We choose dt = 0.3 here because the ratio of d * dt / dx**2 must be less than 1\n",
    "h.finitialize(-65)\n",
    "\n",
    "# We make the RangeVarPlot range from the section we initialized to be 1 through the 1D section that touches our first 3D section\n",
    "rvp = h.RangeVarPlot(\"cai\", h.apic[2](0), h.apic[8](1))\n",
    "\n",
    "for i in range(13):\n",
    "    h.continuerun(i * 50)\n",
    "    plt.figure(1)\n",
    "    rvp.plot(plt)\n",
    "    plt.figure(2, figsize=(15, 27.6))\n",
    "    if max(ca1.nodes(h.apic[1]).concentration) > 0.5:\n",
    "        plot_contours(ca1)\n",
    "plt.show()"
   ]
  }
 ],
 "metadata": {
  "kernelspec": {
   "display_name": "Python 3 (ipykernel)",
   "language": "python",
   "name": "python3"
  },
  "language_info": {
   "codemirror_mode": {
    "name": "ipython",
    "version": 3
   },
   "file_extension": ".py",
   "mimetype": "text/x-python",
   "name": "python",
   "nbconvert_exporter": "python",
   "pygments_lexer": "ipython3",
   "version": "3.11.8"
  },
  "vscode": {
   "interpreter": {
    "hash": "aee8b7b246df8f9039afb4144a1f6fd8d2ca17a180786b69acc140d282b71a49"
   }
  }
 },
 "nbformat": 4,
 "nbformat_minor": 5
}
