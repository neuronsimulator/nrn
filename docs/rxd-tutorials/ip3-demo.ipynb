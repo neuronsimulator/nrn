{
 "cells": [
  {
   "cell_type": "code",
   "execution_count": null,
   "metadata": {},
   "outputs": [],
   "source": [
    "from neuron import h, crxd as rxd\n",
    "h.load_file('stdrun.hoc')"
   ]
  },
  {
   "cell_type": "code",
   "execution_count": null,
   "metadata": {},
   "outputs": [],
   "source": [
    "dend = h.Section(name='dend')\n",
    "dend.L = 100\n",
    "dend.nseg = 101"
   ]
  },
  {
   "cell_type": "code",
   "execution_count": null,
   "metadata": {},
   "outputs": [],
   "source": [
    "def my_initial(node):\n",
    "    if 0.4 < node.segment.x < 0.6:\n",
    "        return 1\n",
    "    else:\n",
    "        return 0\n",
    "\n",
    "cyt = rxd.Region(h.allsec(), name='cyt', nrn_region='i')\n",
    "ip3 = rxd.Species(cyt, name='ip3', d=1, initial=my_initial)"
   ]
  },
  {
   "cell_type": "code",
   "execution_count": null,
   "metadata": {},
   "outputs": [],
   "source": [
    "from matplotlib import pyplot\n",
    "def plot_it():\n",
    "    xs = [seg.x * dend.L for seg in dend]\n",
    "    ys = [seg.ip3i for seg in dend]\n",
    "    pyplot.plot(xs, ys)"
   ]
  },
  {
   "cell_type": "code",
   "execution_count": null,
   "metadata": {},
   "outputs": [],
   "source": [
    "%matplotlib inline\n",
    "h.finitialize(-65)\n",
    "for tstop in [0, 50, 100, 150]:\n",
    "    h.continuerun(tstop)\n",
    "    plot_it()\n",
    "pyplot.xlabel('x (µm)')\n",
    "pyplot.ylabel('[IP3]')"
   ]
  },
  {
   "cell_type": "code",
   "execution_count": null,
   "metadata": {},
   "outputs": [],
   "source": [
    "nM = 1e-6 # relative to NEURON's default mM\n",
    "\n",
    "h.finitialize(-65)\n",
    "while dend(0.7).ip3i < 100 * nM:\n",
    "    h.fadvance()\n",
    "\n",
    "print('crossed 100 nM at t = {} ms'.format(h.t))"
   ]
  },
  {
   "cell_type": "code",
   "execution_count": null,
   "metadata": {},
   "outputs": [],
   "source": [
    "ip3_vec = h.Vector()\n",
    "ip3_vec.record(dend(0.7)._ref_ip3i)\n",
    "t_vec = h.Vector()\n",
    "t_vec.record(h._ref_t)\n",
    "\n",
    "h.finitialize(-65)\n",
    "h.continuerun(1000)\n",
    "max_ip3 = max(ip3_vec)\n",
    "print('peak ip3 =', max_ip3)\n",
    "print('final ip3 =', dend(0.7).ip3i)"
   ]
  }
 ],
 "metadata": {
  "kernelspec": {
   "display_name": "Python 3",
   "language": "python",
   "name": "python3"
  },
  "language_info": {
   "codemirror_mode": {
    "name": "ipython",
    "version": 3
   },
   "file_extension": ".py",
   "mimetype": "text/x-python",
   "name": "python",
   "nbconvert_exporter": "python",
   "pygments_lexer": "ipython3",
   "version": "3.7.7"
  }
 },
 "nbformat": 4,
 "nbformat_minor": 2
}
