{
 "cells": [
  {
   "cell_type": "markdown",
   "metadata": {},
   "source": [
    "# IP3 demo"
   ]
  },
  {
   "cell_type": "code",
   "execution_count": null,
   "metadata": {},
   "outputs": [],
   "source": [
    "from neuron import n, rxd\n",
    "\n",
    "n.load_file(\"stdrun.hoc\")"
   ]
  },
  {
   "cell_type": "code",
   "execution_count": null,
   "metadata": {},
   "outputs": [],
   "source": [
    "dend = n.Section(name=\"dend\")\n",
    "dend.L = 100\n",
    "dend.nseg = 101"
   ]
  },
  {
   "cell_type": "code",
   "execution_count": null,
   "metadata": {},
   "outputs": [],
   "source": [
    "def my_initial(node):\n",
    "    if 0.4 < node.segment.x < 0.6:\n",
    "        return 1\n",
    "    else:\n",
    "        return 0\n",
    "\n",
    "\n",
    "cyt = rxd.Region(n.allsec(), name=\"cyt\", nrn_region=\"i\")\n",
    "ip3 = rxd.Species(cyt, name=\"ip3\", d=1, initial=my_initial)"
   ]
  },
  {
   "cell_type": "code",
   "execution_count": null,
   "metadata": {},
   "outputs": [],
   "source": [
    "from matplotlib import pyplot\n",
    "\n",
    "\n",
    "def plot_it():\n",
    "    xs = [seg.x * dend.L for seg in dend]\n",
    "    ys = [seg.ip3i for seg in dend]\n",
    "    pyplot.plot(xs, ys)"
   ]
  },
  {
   "cell_type": "code",
   "execution_count": null,
   "metadata": {},
   "outputs": [],
   "source": [
    "%matplotlib inline\n",
    "n.finitialize(-65)\n",
    "for tstop in [0, 50, 100, 150]:\n",
    "    n.continuerun(tstop)\n",
    "    plot_it()\n",
    "pyplot.xlabel(\"x (µm)\")\n",
    "pyplot.ylabel(\"[IP3]\")"
   ]
  },
  {
   "cell_type": "code",
   "execution_count": null,
   "metadata": {},
   "outputs": [],
   "source": [
    "nM = 1e-6  # relative to NEURON's default mM\n",
    "\n",
    "n.finitialize(-65)\n",
    "while dend(0.7).ip3i < 100 * nM:\n",
    "    n.fadvance()\n",
    "\n",
    "print(\"crossed 100 nM at t = {} ms\".format(n.t))"
   ]
  },
  {
   "cell_type": "code",
   "execution_count": null,
   "metadata": {},
   "outputs": [],
   "source": [
    "ip3_vec = n.Vector()\n",
    "ip3_vec.record(dend(0.7)._ref_ip3i)\n",
    "t_vec = n.Vector()\n",
    "t_vec.record(n._ref_t)\n",
    "\n",
    "n.finitialize(-65)\n",
    "n.continuerun(1000)\n",
    "max_ip3 = max(ip3_vec)\n",
    "print(\"peak ip3 =\", max_ip3)\n",
    "print(\"final ip3 =\", dend(0.7).ip3i)"
   ]
  }
 ],
 "metadata": {
  "language_info": {
   "name": "python"
  }
 },
 "nbformat": 4,
 "nbformat_minor": 2
}
