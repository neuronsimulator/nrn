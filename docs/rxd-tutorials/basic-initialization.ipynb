{
 "cells": [
  {
   "cell_type": "markdown",
   "metadata": {},
   "source": [
    "# Initialization Strategies"
   ]
  },
  {
   "cell_type": "markdown",
   "metadata": {},
   "source": [
    "A version of this notebook may be run online via Google Colab at https://tinyurl.com/rxd-basic-initialization (make a copy or open in playground mode)."
   ]
  },
  {
   "cell_type": "markdown",
   "metadata": {},
   "source": [
    "The time series of a chemical concentration necessarily depends on its initial conditions; i.e. the concentration at time 0. An analogous statement is true for gating variables, etc. How do we specify this?"
   ]
  },
  {
   "cell_type": "markdown",
   "metadata": {},
   "source": [
    "## Option 1: NEURON and NMODL defaults"
   ]
  },
  {
   "cell_type": "markdown",
   "metadata": {},
   "source": [
    "If the species corresponds to one with initial conditions specified by NMODL (or in the case of sodium, potassium, or calcium with meaningful NEURON defaults), then omitting the initial argument will tell NEURON to use those rules. e.g."
   ]
  },
  {
   "cell_type": "code",
   "execution_count": null,
   "metadata": {},
   "outputs": [],
   "source": [
    "from neuron import h, rxd\n",
    "from neuron.units import mV\n",
    "\n",
    "soma = h.Section(name=\"soma\")\n",
    "cyt = rxd.Region(soma.wholetree(), name=\"cyt\", nrn_region=\"i\")\n",
    "\n",
    "ca = rxd.Species(cyt, name=\"ca\", charge=2, atolscale=1e-6)\n",
    "na = rxd.Species(cyt, name=\"na\", charge=1)\n",
    "k = rxd.Species(cyt, name=\"k\", charge=1)\n",
    "unknown = rxd.Species(cyt, name=\"unknown\", charge=-1)\n",
    "\n",
    "h.finitialize(-65 * mV)\n",
    "\n",
    "print(f\"ca: {ca.nodes[0].concentration} mM\")\n",
    "print(f\"na: {na.nodes[0].concentration} mM\")\n",
    "print(f\"k: {k.nodes[0].concentration} mM\")\n",
    "print(f\"unknown: {unknown.nodes[0].concentration} mM\")"
   ]
  },
  {
   "cell_type": "markdown",
   "metadata": {},
   "source": [
    "As shown here, unknown ions/proteins are by default assigned a concentration by NEURON of 1 mM. The atolscale value for calcium has no effect on the initialized value, but is included here as an example of best practice for working with low concentrations."
   ]
  },
  {
   "cell_type": "markdown",
   "metadata": {},
   "source": [
    "Importantly, the NEURON/NMODL rules only apply if there is a corresponding classical NEURON state variable. That is, <tt>nrn_region</tt> must be set and the Species must have a <tt>name</tt> assigned."
   ]
  },
  {
   "cell_type": "markdown",
   "metadata": {},
   "source": [
    "Running what is otherwise the same code without the <tt>nrn_region</tt> assigned causes everything to default to 0 µM:"
   ]
  },
  {
   "cell_type": "code",
   "execution_count": null,
   "metadata": {},
   "outputs": [],
   "source": [
    "from neuron import h, rxd\n",
    "from neuron.units import mV\n",
    "\n",
    "soma = h.Section(name=\"soma\")\n",
    "cyt = rxd.Region(soma.wholetree(), name=\"cyt\")\n",
    "\n",
    "ca = rxd.Species(cyt, name=\"ca\", charge=2)\n",
    "na = rxd.Species(cyt, name=\"na\", charge=1)\n",
    "k = rxd.Species(cyt, name=\"k\", charge=1)\n",
    "unknown = rxd.Species(cyt, name=\"unknown\", charge=-1)\n",
    "\n",
    "h.finitialize(-65 * mV)\n",
    "\n",
    "print(f\"ca: {ca.nodes[0].concentration} mM\")\n",
    "print(f\"na: {na.nodes[0].concentration} mM\")\n",
    "print(f\"k: {k.nodes[0].concentration} mM\")\n",
    "print(f\"unknown: {unknown.nodes[0].concentration} mM\")"
   ]
  },
  {
   "cell_type": "code",
   "execution_count": null,
   "metadata": {},
   "outputs": [],
   "source": [
    "## get rid of previous model\n",
    "soma = ca = na = k = unknown = None"
   ]
  },
  {
   "cell_type": "markdown",
   "metadata": {},
   "source": [
    "For extracellular species, there is no equivalent traditional NEURON state variable (as those only exist within and along the cell), however NEURON's constant initialization parameters for the <tt>nrn_region='o'</tt> space are used if available; e.g."
   ]
  },
  {
   "cell_type": "code",
   "execution_count": null,
   "metadata": {},
   "outputs": [],
   "source": [
    "from neuron import h, rxd\n",
    "from neuron.units import mV\n",
    "\n",
    "ecs = rxd.Extracellular(\n",
    "    -100, -100, -100, 100, 100, 100, dx=20, volume_fraction=0.2, tortuosity=1.6\n",
    ")\n",
    "\n",
    "## defining calcium on both intra- and extracellular regions\n",
    "ca = rxd.Species(ecs, name=\"ca\", charge=2)\n",
    "\n",
    "## global initialization for NEURON extracellular calcium\n",
    "h.cao0_ca_ion = 0.42\n",
    "\n",
    "h.finitialize(-65 * mV)\n",
    "\n",
    "print(f\"ca: {ca.nodes[0].concentration} mM\")"
   ]
  },
  {
   "cell_type": "markdown",
   "metadata": {},
   "source": [
    "We could do something similar using <tt>cai0_ca_ion</tt> to set the global initial intracellular calcium concentration."
   ]
  },
  {
   "cell_type": "code",
   "execution_count": null,
   "metadata": {},
   "outputs": [],
   "source": [
    "## get rid of previous model\n",
    "soma = ca = ecs = None"
   ]
  },
  {
   "cell_type": "markdown",
   "metadata": {},
   "source": [
    "## Option 2: Uniform initial concentration</tt>"
   ]
  },
  {
   "cell_type": "markdown",
   "metadata": {},
   "source": [
    "Setting <tt>initial=</tt> to a Species or State assigns that value every time the system reinitializes. e.g."
   ]
  },
  {
   "cell_type": "code",
   "execution_count": null,
   "metadata": {},
   "outputs": [],
   "source": [
    "from neuron import h, rxd\n",
    "from neuron.units import mV\n",
    "\n",
    "soma = h.Section(name=\"soma\")\n",
    "\n",
    "cyt = rxd.Region([soma], name=\"cyt\")\n",
    "m = rxd.State(cyt, initial=0.47)\n",
    "\n",
    "h.finitialize(-65 * mV)\n",
    "print(f\"m = {m.nodes[0].value}\")"
   ]
  },
  {
   "cell_type": "code",
   "execution_count": null,
   "metadata": {},
   "outputs": [],
   "source": [
    "## get rid of previous model\n",
    "m = cyt = soma = None"
   ]
  },
  {
   "cell_type": "markdown",
   "metadata": {},
   "source": [
    "## Option 3: Initializing to a function of position"
   ]
  },
  {
   "cell_type": "markdown",
   "metadata": {},
   "source": [
    "The <tt>initial=</tt> keyword argument also accepts a callable (e.g. a function) that receives a node object. Nodes have certain properties that are useful for assinging based on position, including <tt>.segment</tt> (intracellular nodes only) and <tt>.x3d</tt>, <tt>.y3d</tt>, and <tt>.z3d</tt>. Segment-to-segment (or the segment containing a node) distances can be measured directly using <tt>h.distance</tt>."
   ]
  },
  {
   "cell_type": "markdown",
   "metadata": {},
   "source": [
    "### Using <tt>h.distance</tt>:"
   ]
  },
  {
   "cell_type": "markdown",
   "metadata": {},
   "source": [
    "Here we use the morphology <a href=\"https://github.com/neuronsimulator/resources/blob/8b1290d5c8ab748dd6251be5bd46a4e3794d742f/notebooks/rxd/c91662.CNG.swc\">c91662.CNG.swc</a> obtained from NeuroMorpho.Org and initialize based on <i>path distance</i> from the soma."
   ]
  },
  {
   "cell_type": "code",
   "execution_count": null,
   "metadata": {},
   "outputs": [],
   "source": [
    "!wget -N https://raw.githubusercontent.com/neuronsimulator/resources/8b1290d5c8ab748dd6251be5bd46a4e3794d742f/notebooks/rxd/c91662.CNG.swc"
   ]
  },
  {
   "cell_type": "code",
   "execution_count": null,
   "metadata": {},
   "outputs": [],
   "source": [
    "from neuron import h, gui, rxd\n",
    "from neuron.units import mV\n",
    "\n",
    "h.load_file(\"stdrun.hoc\")\n",
    "h.load_file(\"import3d.hoc\")\n",
    "\n",
    "## load the morphology and instantiate at the top level (i.e. not in a class)\n",
    "cell = h.Import3d_SWC_read()\n",
    "cell.input(\"c91662.CNG.swc\")\n",
    "h.Import3d_GUI(cell, 0)\n",
    "i3d = h.Import3d_GUI(cell, 0)\n",
    "i3d.instantiate(None)  # pass in a class to instantiate inside the class instead\n",
    "\n",
    "## increase the number of segments\n",
    "for sec in h.allsec():\n",
    "    sec.nseg = 1 + 2 * int(sec.L / 20)\n",
    "\n",
    "soma = h.soma[0]\n",
    "\n",
    "\n",
    "def my_initial(node):\n",
    "    # return a certain function of the distance\n",
    "    return 2 * h.tanh(h.distance(soma(0.5), node) / 1000.0)\n",
    "\n",
    "\n",
    "cyt = rxd.Region(h.allsec(), name=\"cyt\", nrn_region=\"i\")\n",
    "ca = rxd.Species(cyt, name=\"ca\", charge=2, initial=my_initial)\n",
    "\n",
    "h.finitialize(-65 * mV)"
   ]
  },
  {
   "cell_type": "code",
   "execution_count": null,
   "metadata": {},
   "outputs": [],
   "source": [
    "import plotly\n",
    "\n",
    "ps = h.PlotShape(False)\n",
    "ps.variable(ca[cyt])\n",
    "ps.scale(0, 2)\n",
    "ps.plot(plotly).show(renderer=\"notebook_connected\")"
   ]
  },
  {
   "cell_type": "markdown",
   "metadata": {},
   "source": [
    "### Using position:"
   ]
  },
  {
   "cell_type": "markdown",
   "metadata": {},
   "source": [
    "We continue the above example adding a new species, that is initialized based on the x-coordinate. This could happen, for example, on a platform with a nutrient or temperature gradient:"
   ]
  },
  {
   "cell_type": "code",
   "execution_count": null,
   "metadata": {},
   "outputs": [],
   "source": [
    "def my_initial2(node):\n",
    "    # return a certain function of the x-coordinate\n",
    "    return 1 + h.tanh(node.x3d / 100.0)\n",
    "\n",
    "\n",
    "alpha = rxd.Parameter(cyt, name=\"alpha\", initial=my_initial2)\n",
    "\n",
    "h.finitialize(-65 * mV)"
   ]
  },
  {
   "cell_type": "code",
   "execution_count": null,
   "metadata": {},
   "outputs": [],
   "source": [
    "import plotly\n",
    "\n",
    "ps = h.PlotShape(False)\n",
    "ps.variable(alpha[cyt])\n",
    "ps.scale(0, 2)\n",
    "ps.plot(plotly).show(renderer=\"notebook_connected\")"
   ]
  },
  {
   "cell_type": "markdown",
   "metadata": {},
   "source": [
    "## Option 4: to steady state"
   ]
  },
  {
   "cell_type": "markdown",
   "metadata": {},
   "source": [
    "Sometimes one might want to initialize a simulation to steady-state where e.g. diffusion, ion channel currents, and chemical reactions all balance each other out. There may be no such possible initial condition due to the interacting parts.\n",
    "\n",
    "In principle, such initial conditions could be assigned using a variant of the option 3 approach above. In practice, however, it may be simpler to omit the <tt>initial=</tt> keyword argument, and use an <tt><a href=\"https://www.neuron.yale.edu/neuron/static/py_doc/simctrl/programmatic.html#FInitializeHandler\">h.FInitializeHandler</a></tt> to loop over locations, setting the values for all states at a given location at the same time. A full example is beyond the scope of this tutorial."
   ]
  }
 ],
 "metadata": {
  "language_info": {
   "name": "python"
  }
 },
 "nbformat": 4,
 "nbformat_minor": 1
}
