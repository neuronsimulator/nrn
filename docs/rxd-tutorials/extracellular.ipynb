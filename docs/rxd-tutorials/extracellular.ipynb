{
 "cells": [
  {
   "cell_type": "markdown",
   "metadata": {},
   "source": [
    "<h1>Extracellular reaction-diffusion tutorial</h1>\n",
    "We have expanded the capabilities the NEURON reaction diffusion module to support a macroscopic model of the extracellular space, described in a recent <a href=https://doi.org/10.3389/fninf.2018.00041>paper</a>. Here is brief a tutorial that provides an overview of the Python interface."
   ]
  },
  {
   "cell_type": "markdown",
   "metadata": {},
   "source": [
    "<h2>Download files</h2>\n",
    "\n",
    "<p>This tutorial uses two files. Download them and save them to your working directory:</p>\n",
    "\n",
    "<ul>\n",
    "\t<li><a href=\"https://neuron.yale.edu/ftp/neuron/tutorial_files/steady_k.mod\">steady_k.mod</a></li>\n",
    "\t<li><a href=\"http://neuromorpho.org/dableFiles/amaral/CNG%20version/c91662.CNG.swc\">c91662.CNG.swc</a></li>\n",
    "</ul>\n",
    "\n",
    "<p>The first is simple mechanism written for this tutorial that releases potassium at a constant rate per surface area. The second is a morphology from NeuroMorpho.Org.</p>\n",
    "\n",
    "\n"
   ]
  },
  {
   "cell_type": "code",
   "execution_count": null,
   "metadata": {},
   "outputs": [],
   "source": [
    "from urllib.request import urlretrieve\n",
    "import ssl\n",
    "ssl._create_default_https_context = ssl._create_unverified_context\n",
    "urlretrieve (\"https://neuron.yale.edu/ftp/neuron/tutorial_files/steady_k.mod\", \"steady_k.mod\")\n",
    "urlretrieve (\"http://neuromorpho.org/dableFiles/amaral/CNG%20version/c91662.CNG.swc\", \"c91662.swc\")\n"
   ]
  },
  {
   "cell_type": "markdown",
   "metadata": {},
   "source": [
    "<p>Begin by compiling the mod file. On Linux and Mac, this can be done by running <tt>nrnivmodl</tt> from the command line.&nbsp;The same works for Windows beginning with NEURON 7.7; alternatively, on Windows regardless of NEURON version, one can use the graphical tool <tt>mknrndll</tt>.</p>\n"
   ]
  },
  {
   "cell_type": "code",
   "execution_count": null,
   "metadata": {},
   "outputs": [],
   "source": [
    "!nrnivmodl"
   ]
  },
  {
   "cell_type": "markdown",
   "metadata": {},
   "source": [
    "<h2>Getting started</h2>"
   ]
  },
  {
   "cell_type": "code",
   "execution_count": null,
   "metadata": {},
   "outputs": [],
   "source": [
    "from neuron import h, crxd as rxd"
   ]
  },
  {
   "cell_type": "markdown",
   "metadata": {},
   "source": [
    "For reaction diffusion in the extracellular space (ECS) you have to import the crxd from neuron. The first example we will place two single compartment neurons in a closed box of extracellular space."
   ]
  },
  {
   "cell_type": "code",
   "execution_count": null,
   "metadata": {},
   "outputs": [],
   "source": [
    "rxd.options.enable.extracellular=True"
   ]
  },
  {
   "cell_type": "markdown",
   "metadata": {},
   "source": [
    "To use extracellular reaction diffusion it must be enabled, it is enabled by default in NEURON 7.7 or later."
   ]
  },
  {
   "cell_type": "code",
   "execution_count": null,
   "metadata": {},
   "outputs": [],
   "source": [
    "rxd.nthread(4)"
   ]
  },
  {
   "cell_type": "markdown",
   "metadata": {},
   "source": [
    "Extracellular rxd supports multithreaded parallelization."
   ]
  },
  {
   "cell_type": "code",
   "execution_count": null,
   "metadata": {},
   "outputs": [],
   "source": [
    "h.load_file('stdrun.hoc')\n",
    "h.load_file('import3d.hoc')\n",
    "class Cell:\n",
    "    def __init__(self,filename):\n",
    "        \"\"\"Read geometry from a given SWC file and create a cell with a K+ source\"\"\"\n",
    "        cell = h.Import3d_SWC_read()\n",
    "        cell.input(filename)\n",
    "        h.Import3d_GUI(cell, 0)\n",
    "        i3d = h.Import3d_GUI(cell, 0)\n",
    "        i3d.instantiate(self)\n",
    "        for sec in self.all:\n",
    "            sec.nseg = 1 + 10 * int(sec.L / 5)\n",
    "            sec.insert('steady_k')\n",
    "    def extrema(self):\n",
    "        \"\"\"Give the bounding box that contains the cell\"\"\"\n",
    "        xlo = ylo = zlo = xhi = yhi = zhi = None\n",
    "        for sec in self.all:\n",
    "            n3d = sec.n3d()\n",
    "            xs = [sec.x3d(i) for i in range(n3d)]\n",
    "            ys = [sec.y3d(i) for i in range(n3d)]\n",
    "            zs = [sec.z3d(i) for i in range(n3d)]\n",
    "            my_xlo, my_ylo, my_zlo = min(xs), min(ys), min(zs)\n",
    "            my_xhi, my_yhi, my_zhi = max(xs), max(ys), max(zs)\n",
    "            if xlo is None:\n",
    "                xlo, ylo, zlo = my_xlo, my_ylo, my_zlo\n",
    "                xhi, yhi, zhi = my_xhi, my_yhi, my_zhi\n",
    "            else:\n",
    "                xlo, ylo, zlo = min(xlo, my_xlo), min(ylo, my_ylo), min(zlo, my_zlo)\n",
    "                xhi, yhi, zhi = max(xhi, my_xhi), max(yhi, my_yhi), max(zhi, my_zhi)\n",
    "        return (xlo, ylo, zlo, xhi, yhi, zhi)"
   ]
  },
  {
   "cell_type": "code",
   "execution_count": null,
   "metadata": {},
   "outputs": [],
   "source": [
    "mycell = Cell('c91662.swc')"
   ]
  },
  {
   "cell_type": "markdown",
   "metadata": {},
   "source": [
    "Create a cell from the given SWC file, in this example we use a <a href=\"http://neuromorpho.org/neuron_info.jsp?neuron_name=c91662\">CA1 pyramidal cell</a> taken from NeuroMorpho.Org. We insert a current source `steady_k` into all sections as a simple proof of concept example."
   ]
  },
  {
   "cell_type": "code",
   "execution_count": null,
   "metadata": {},
   "outputs": [],
   "source": [
    "xlo, ylo, zlo, xhi, yhi, zhi = mycell.extrema()\n",
    "padding = 50\n",
    "ecs = rxd.Extracellular(xlo - padding, ylo - padding, zlo - padding,\n",
    "                        xhi + padding, yhi + padding, zhi + padding,\n",
    "                        dx=(20, 20, 50), volume_fraction=0.2, tortuosity=1.6)"
   ]
  },
  {
   "cell_type": "markdown",
   "metadata": {},
   "source": [
    "We define the extracellular region by specifying the left-bottom-back corner and right-upper-front corner of a box with voxel size dx$\\times$dy$\\times$dz, (if only one value is given the voxels are cubic).\n",
    "We use a macroscopic volume average approach, where the volume fraction or porosity is the free space in which particles can diffuse (typically 0.2 in the brain) and the tortuosity is the increase in path length particles take due to obstacles."
   ]
  },
  {
   "cell_type": "code",
   "execution_count": null,
   "metadata": {},
   "outputs": [],
   "source": [
    "k = rxd.Species(ecs, d=2.62, name='k', charge=1, initial=3)"
   ]
  },
  {
   "cell_type": "markdown",
   "metadata": {},
   "source": [
    "The species diffusing in the ECS are define in the same was as intracellular species."
   ]
  },
  {
   "cell_type": "markdown",
   "metadata": {},
   "source": [
    "The extracellular concentrations are accessible by `states3d`. Here we animate the concentrations during a 20s simulation."
   ]
  },
  {
   "cell_type": "code",
   "execution_count": null,
   "metadata": {},
   "outputs": [],
   "source": [
    "from matplotlib import pyplot, animation\n",
    "from IPython.display import HTML\n",
    "\n",
    "# use a large timestep as this model only has slow diffusive dynamics.\n",
    "h.dt = 20\n",
    "\n",
    "#Create an animation of average (over depth) of the concentrations\n",
    "def runsim(species, min_conc=3, max_conc=4, frames=1000):\n",
    "    h.finitialize()\n",
    "    fig = pyplot.figure()\n",
    "    im = pyplot.imshow(species[ecs].states3d.mean(2), vmin=min_conc, vmax=max_conc)\n",
    "    pyplot.axis('off')\n",
    "\n",
    "    def init():\n",
    "        im.set_data(species[ecs].states3d.mean(2))\n",
    "        return [im]\n",
    "    def animate(i):\n",
    "        h.fadvance()\n",
    "        im.set_data(species[ecs].states3d.mean(2))\n",
    "        return [im]\n",
    "\n",
    "    anim = animation.FuncAnimation(fig, animate, init_func=init, frames=frames, interval=10)\n",
    "    ret =  HTML(anim.to_html5_video())\n",
    "    pyplot.close()\n",
    "    return ret"
   ]
  },
  {
   "cell_type": "code",
   "execution_count": null,
   "metadata": {},
   "outputs": [],
   "source": [
    "runsim(k, min_conc=3, max_conc=4)"
   ]
  },
  {
   "cell_type": "markdown",
   "metadata": {},
   "source": [
    "<h3>Recording from a single voxel</h3>\n",
    "We can also record from the extracellular concentration in the same way other NEURON states are recorded. Here we record from a extracellular node by access it by location or index into the states3d matrix."
   ]
  },
  {
   "cell_type": "code",
   "execution_count": null,
   "metadata": {},
   "outputs": [],
   "source": [
    "# record from an extracellular nodes given by the x,y,z location\n",
    "kecs_vec0 = h.Vector()\n",
    "kecs_vec0.record(k[ecs].node_by_location(0, 0, 0)._ref_value) # same as k[ecs].node_by_ijk(20,15,7)\n",
    "\n",
    "# record the same node by it's index into stated3d\n",
    "kecs_vec1 = h.Vector()\n",
    "kecs_vec1.record(k[ecs].node_by_ijk(22, 15, 7)._ref_value) # same as k[ecs].node_by_location(50,0,0)\n",
    "\n",
    "# record the time\n",
    "t_vec = h.Vector()\n",
    "t_vec.record(h._ref_t)\n",
    "\n",
    "# run the simulation\n",
    "h.finitialize()\n",
    "h.continuerun(2000)\n",
    "\n",
    "# plot the concentations\n",
    "pyplot.plot(t_vec, kecs_vec0, label='near the cell')\n",
    "pyplot.plot(t_vec, kecs_vec1, label='far from the cell')"
   ]
  },
  {
   "cell_type": "markdown",
   "metadata": {},
   "source": [
    "<h3>Boundary conditions</h3>\n",
    "By default the extracellular region uses <b>Neumann boundary conditions</b> (where these is zero flux at the boundary), these means our simple example will eventually fill with K$^+$. One way to avoid this is to used <b>Dirichlet boundary conditions</b> where the concentration is set at the boundaries. In the following example we set the concentration to be the same as the initial conditions 3mM. You will see the increase in concentration is smaller, especially near the edge of the grid, than in the previous example."
   ]
  },
  {
   "cell_type": "code",
   "execution_count": null,
   "metadata": {},
   "outputs": [],
   "source": [
    "del k\n",
    "k = rxd.Species(ecs, d=2.62, name='k', charge=1, initial=3, ecs_boundary_conditions=3)"
   ]
  },
  {
   "cell_type": "code",
   "execution_count": null,
   "metadata": {},
   "outputs": [],
   "source": [
    "runsim(k, min_conc=3, max_conc=4)"
   ]
  },
  {
   "cell_type": "markdown",
   "metadata": {},
   "source": [
    "<h3>Extracellular reactions</h3>\n",
    "Extracellular reactions are specified in the same way as intracellular ones. For example, this simple phenomenological model of potassium buffering by astrocytes."
   ]
  },
  {
   "cell_type": "code",
   "execution_count": null,
   "metadata": {},
   "outputs": [],
   "source": [
    "from neuron.crxd import rxdmath\n",
    "kb = 0.0008\n",
    "kth = 15.0\n",
    "kf = kb / (1.0 + rxdmath.exp(-(k - kth)/1.15))\n",
    "Bmax = 10\n",
    "\n",
    "A = rxd.Species(ecs, name='buffer', charge=1, d=0, initial=Bmax)\n",
    "AK = rxd.Species(ecs, name='bound', charge=1, d=0, initial=0)"
   ]
  },
  {
   "cell_type": "markdown",
   "metadata": {},
   "source": [
    "The buffering uses two additional species, `A` is the unbound buffer and `AK` is the bound buffer."
   ]
  },
  {
   "cell_type": "code",
   "execution_count": null,
   "metadata": {},
   "outputs": [],
   "source": [
    "buffering = rxd.Reaction(k + A, AK, kf, kb)"
   ]
  },
  {
   "cell_type": "markdown",
   "metadata": {},
   "source": [
    "The reaction is specified in the same way as intracellular rxd. Here we animate the concentration of bound buffer during a 20s simulation, only a small proportion of the buffer is bound, so we plot a range of 0-10μM, i.e. up to 0.1% of `Bmax`"
   ]
  },
  {
   "cell_type": "code",
   "execution_count": null,
   "metadata": {},
   "outputs": [],
   "source": [
    "runsim(AK, min_conc=0, max_conc=0.01)"
   ]
  },
  {
   "cell_type": "markdown",
   "metadata": {},
   "source": [
    "<h3>Inhomogeneities</h3>\n",
    "<h4>Initial conditions</h4>\n",
    "Initial condition in the ECS need not be a scalar concentration. Suppose we only want to apply the buffer shown above to a sphere in the middle of the ECS, this can be achieved by passing function that takes a node as an argument."
   ]
  },
  {
   "cell_type": "code",
   "execution_count": null,
   "metadata": {},
   "outputs": [],
   "source": [
    "del A, buffering\n",
    "A = rxd.Species(ecs,name='buffer', charge=1, d=0,\n",
    "                initial=lambda nd: 10 if (nd.x**2) + (nd.y**2) + nd.x**2 < 25**2 else 0)\n",
    "buffering = rxd.Reaction(k + A, AK, kf, kb)"
   ]
  },
  {
   "cell_type": "markdown",
   "metadata": {},
   "source": [
    "<h4>Anisotropy</h4>\n",
    "The diffusion coefficient for a species can be different in each direction. e.g. to limit diffusion to the x,y-plane;"
   ]
  },
  {
   "cell_type": "code",
   "execution_count": null,
   "metadata": {},
   "outputs": [],
   "source": [
    "del A, AK, buffering, k\n",
    "k1 = rxd.Species(ecs, d=(2.62, 2.62, 0), name='k1', charge=1, initial=3)"
   ]
  },
  {
   "cell_type": "markdown",
   "metadata": {},
   "source": [
    "<h4>Tissue characteristics</h4>\n",
    "The volume faction and tortuosity of the extracellular space can also vary with location by passing a function coordinates `x, y, z`. This is used in in <a href=\"https://modeldb.yale.edu/238892\">ModelDB:238892</a> as a way to model edema following ischemic stroke. "
   ]
  }
 ],
 "metadata": {
  "kernelspec": {
   "display_name": "Python 3",
   "language": "python",
   "name": "python3"
  },
  "language_info": {
   "codemirror_mode": {
    "name": "ipython",
    "version": 3
   },
   "file_extension": ".py",
   "mimetype": "text/x-python",
   "name": "python",
   "nbconvert_exporter": "python",
   "pygments_lexer": "ipython3",
   "version": "3.7.7"
  }
 },
 "nbformat": 4,
 "nbformat_minor": 2
}
