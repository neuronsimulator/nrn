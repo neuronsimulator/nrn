{
 "cells": [
  {
   "cell_type": "markdown",
   "id": "e47cbdaf",
   "metadata": {},
   "source": [
    "# Example: MGLUR Example"
   ]
  },
  {
   "cell_type": "markdown",
   "id": "0360b3b5",
   "metadata": {},
   "source": [
    "In this example, we show using rxd to handle the kinetics of a mGLUR. In NEURON 7.7, we still need a brief MOD file to detect the synaptic event. "
   ]
  },
  {
   "cell_type": "markdown",
   "id": "8002f771",
   "metadata": {},
   "source": [
    "## The Python code\n"
   ]
  },
  {
   "cell_type": "code",
   "execution_count": null,
   "id": "e80180a6",
   "metadata": {},
   "outputs": [],
   "source": [
    "!nrnivmodl"
   ]
  },
  {
   "cell_type": "code",
   "execution_count": null,
   "id": "8dbdb750",
   "metadata": {},
   "outputs": [],
   "source": [
    "from neuron import h, rxd\n",
    "from matplotlib import pyplot\n",
    "\n",
    "h.load_file(\"stdrun.hoc\")\n",
    "\n",
    "# Paramters from https://modeldb.science/185858?tab=2&file=CaHDemo/mglur.mod\n",
    "# species concentrations are in uM like the mod file rather than the standard mM\n",
    "\n",
    "initmGluR = 0.3e-3  # Bhalla & Iyenger Science  1999\n",
    "K1 = 0.28  # forward binding rate to receptor from Bhalla et al\n",
    "K2 = 0.016  # backward (unbinding) rate of receptor from Bhalla et al\n",
    "K_PLC = 5  # total concentration of PLC\n",
    "K_PIP2 = 160  # total concentration of PIP2\n",
    "K_G = 25  #\n",
    "# kplc and Vmax describe aPLC catalyzing IP3 production from PIP2\n",
    "kfplc = 0.83\n",
    "kbplc = 0.68  # 0.1/ms in the paper; added to Vmax1=0.58/ms in the paper\n",
    "Vmax1 = 0.58\n",
    "# D5 and D6 describe Glu_mGluR catalyzing G_alpha production, Km2=(D6f+D5B)/D5f\n",
    "D5f = 15\n",
    "D5b = 7.2\n",
    "D6f = 1.8\n",
    "# G2 describe aG binding to PLC\n",
    "G2f = 100\n",
    "G2b = 100\n",
    "# degradation of aG (D7f) and IP3 (G9f)\n",
    "D7f = 9\n",
    "degGluRate = 1.0  # should lookup value\n",
    "\n",
    "# Spine Head\n",
    "head = h.Section(\"head\")\n",
    "head.nseg = 1\n",
    "head_L = 0.8  # um\n",
    "head_d = 0.8  # um\n",
    "head.pt3dadd(0, 0, 0, head_d)\n",
    "head.pt3dadd(0, 0, head_L, head_d)\n",
    "glu_per_spike = 1000  # number of molecules (arbitrarily choice for this example)\n",
    "\n",
    "# RxD\n",
    "spine_head = rxd.Region([head], nrn_region=\"i\")\n",
    "\n",
    "Glu = rxd.Species(spine_head, name=\"Glu\", initial=0)\n",
    "mGluR = rxd.Species(spine_head, name=\"mGluR\", initial=initmGluR)\n",
    "Glu_mGluR = rxd.Species(spine_head, name=\"Glu_mGluR\", initial=0)\n",
    "react1 = rxd.Reaction(Glu + mGluR, Glu_mGluR, K1, K2)\n",
    "\n",
    "\n",
    "degGlu = rxd.Species(spine_head, name=\"degGlu\", initial=0)\n",
    "react2 = rxd.Reaction(Glu, degGlu, degGluRate)\n",
    "\n",
    "G = rxd.Species(spine_head, name=\"G\", initial=K_G)\n",
    "GG_mGluR = rxd.Species(spine_head, name=\"GG_mGluR\", initial=0)\n",
    "react3 = rxd.Reaction(Glu_mGluR + G, GG_mGluR, D5f, D5b)\n",
    "\n",
    "aG = rxd.Species(spine_head, name=\"aG\", initial=0)\n",
    "react4 = rxd.Reaction(GG_mGluR, aG + mGluR, D6f)\n",
    "react5 = rxd.Reaction(aG, G, D7f)\n",
    "\n",
    "PLC = rxd.Species(spine_head, name=\"PLC\", initial=K_PLC)\n",
    "aPLC_aG = rxd.Species(spine_head, name=\"aPLC_aG\", initial=0)\n",
    "react6 = rxd.Reaction(aG + PLC, aPLC_aG, G2f, G2b)\n",
    "\n",
    "PIP2 = rxd.Species(spine_head, name=\"PIP2\", initial=K_PIP2)\n",
    "aPLC_PIP2 = rxd.Species(spine_head, name=\"aPLC_PIP2\", initial=0)\n",
    "\n",
    "react7 = rxd.Reaction(aPLC_aG + PIP2, aPLC_PIP2, kfplc, kbplc)\n",
    "\n",
    "\n",
    "# ip3 degradation has been omitted in this example\n",
    "\n",
    "# Add the synapse\n",
    "syn = h.mGLUR(head(0.5))\n",
    "\n",
    "\n",
    "# Noisy stimulation\n",
    "h.Random(6324)\n",
    "stim = h.NetStim()\n",
    "stim.number = 100\n",
    "stim.start = 0\n",
    "stim.noise = 1\n",
    "ncstim = h.NetCon(stim, syn)\n",
    "ncstim.delay = 1\n",
    "ncstim.weight[0] = glu_per_spike / (Glu.nodes[0].volume)  # number per um^3\n",
    "\n",
    "ip3 = rxd.Species(spine_head, name=\"ip3\", d=1.415, initial=0)\n",
    "react8 = rxd.Reaction(aPLC_PIP2, ip3, Vmax1)\n",
    "\n",
    "\n",
    "# Record\n",
    "tvec = h.Vector().record(h._ref_t)\n",
    "Glu_vec = h.Vector().record(head(0.5)._ref_Glui)\n",
    "ip3_vec = h.Vector().record(head(0.5)._ref_ip3i)\n",
    "\n",
    "\n",
    "# Run simulation\n",
    "h.finitialize()\n",
    "h.continuerun(1000)\n",
    "\n",
    "# Plot the result\n",
    "pyplot.subplot(2, 1, 1)\n",
    "pyplot.plot(tvec, Glu_vec)\n",
    "pyplot.xlabel(\"t (ms)\")\n",
    "pyplot.ylabel(\"Glu (uM)\")\n",
    "\n",
    "pyplot.subplot(2, 1, 2)\n",
    "pyplot.plot(tvec, ip3_vec.mul(1e3))\n",
    "pyplot.xlabel(\"t (ms)\")\n",
    "pyplot.ylabel(\"IP3 (nM)\")\n",
    "pyplot.show()"
   ]
  },
  {
   "cell_type": "markdown",
   "id": "95bfb8dc",
   "metadata": {},
   "source": [
    "## The synaptic event detection code"
   ]
  },
  {
   "cell_type": "markdown",
   "id": "4d5b7a05",
   "metadata": {},
   "source": [
    "    NEURON {\n",
    "  \n",
    "    POINT_PROCESS mGLURRxD\n",
    "    POINTER G\n",
    "  \n",
    "    }\n",
    "\n",
    "    UNITS\n",
    "\n",
    "    {\n",
    "\n",
    "    CON = (1/micrometer3) (millimole/m3)  : count/volume to uM\n",
    "    \n",
    "    }\n",
    "\n",
    "    ASSIGNED\n",
    "\n",
    "    {\n",
    "\n",
    "    G\n",
    "    \n",
    "    }\n",
    "\n",
    "    NET_RECEIVE (weight)  {\n",
    "\n",
    "    G = G + weight * CON\n",
    "  \n",
    "    }"
   ]
  },
  {
   "cell_type": "markdown",
   "id": "a2c38738",
   "metadata": {},
   "source": [
    "### Output from revised mod file"
   ]
  },
  {
   "cell_type": "markdown",
   "id": "575f3838",
   "metadata": {},
   "source": [
    "![Alt text](synaptic_event.png)"
   ]
  }
 ],
 "metadata": {
  "kernelspec": {
   "display_name": "Python 3 (ipykernel)",
   "language": "python",
   "name": "python3"
  },
  "language_info": {
   "codemirror_mode": {
    "name": "ipython",
    "version": 3
   },
   "file_extension": ".py",
   "mimetype": "text/x-python",
   "name": "python",
   "nbconvert_exporter": "python",
   "pygments_lexer": "ipython3",
   "version": "3.11.8"
  }
 },
 "nbformat": 4,
 "nbformat_minor": 5
}
