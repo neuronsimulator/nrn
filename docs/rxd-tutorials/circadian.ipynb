{
 "cells": [
  {
   "cell_type": "markdown",
   "metadata": {},
   "source": [
    "A version of this notebook may be run online via Google Colab at https://tinyurl.com/rxd-circadian (make a copy or open in playground mode)."
   ]
  },
  {
   "cell_type": "code",
   "execution_count": null,
   "metadata": {},
   "outputs": [],
   "source": [
    "import neuron"
   ]
  },
  {
   "cell_type": "markdown",
   "metadata": {},
   "source": [
    "Here we develop a NEURON implementation of the Leloup-Goldbeter model for circadian rhythms in Drosophila, using the version of the model specified in:\n",
    "\n",
    "Leloup, J. C., Gonze, D., & Goldbeter, A. (1999). Limit cycle models for\n",
    "circadian rhythms based on transcriptional regulation in Drosophila and\n",
    "Neurospora. Journal of biological rhythms, 14(6), 433-448.\n",
    "https://doi.org/10.1177/074873099129000948\n",
    "\n",
    "We'll use the initial conditions from the BioModels version:\n",
    "https://www.ebi.ac.uk/biomodels/BIOMD0000000298"
   ]
  },
  {
   "cell_type": "markdown",
   "metadata": {},
   "source": [
    "<h2>Load libraries</h2>\n",
    "\n",
    "As usual, we'll want NEURON's h library and its standard run system as well as rxd. "
   ]
  },
  {
   "cell_type": "code",
   "execution_count": null,
   "metadata": {},
   "outputs": [],
   "source": [
    "from neuron import h, rxd\n",
    "h.load_file('stdrun.hoc')"
   ]
  },
  {
   "cell_type": "markdown",
   "metadata": {},
   "source": [
    "We'll also use <tt>matplotlib</tt> to plot concentrations of circadian proteins over time. We could of course use NEURON's graphics, bokeh, or any other plotting library."
   ]
  },
  {
   "cell_type": "code",
   "execution_count": null,
   "metadata": {},
   "outputs": [],
   "source": [
    "import matplotlib.pyplot as plt"
   ]
  },
  {
   "cell_type": "markdown",
   "metadata": {},
   "source": [
    "<h2>Units</h2>\n",
    "\n",
    "Recall NEURON measures concentrations in mM and time in ms. Leloup et al., 1999, however expresses concentration in nM and time in hours. We could ignore the unit inconsistency and NEURON would still be able to run the simulation, however if we did so, this could cause problems for interacting with other NEURON mechanisms. To avoid this problem, we use the `nM` and `hour` units from `neuron.units` in addition to our usual `mV` for initializing the membrane potential:"
   ]
  },
  {
   "cell_type": "code",
   "execution_count": null,
   "metadata": {},
   "outputs": [],
   "source": [
    "from neuron.units import nM, hour, mV"
   ]
  },
  {
   "cell_type": "markdown",
   "metadata": {},
   "source": [
    "<h2>Helper functions for clarity</h2>\n",
    "\n",
    "For clarity, we prefer to define parameters and species by just specifying their names and values instead of repeteadly writing <tt>rxd.Parameter</tt> or <tt>rxd.Species</tt>. Fortunately, since Python uses keyword arguments and allows functions to modify the global variable dictionary, we can define helper functions that let us do exactly that:"
   ]
  },
  {
   "cell_type": "code",
   "execution_count": null,
   "metadata": {},
   "outputs": [],
   "source": [
    "def declare_parameters(**kwargs):\n",
    "    '''enables clean declaration of parameters in top namespace'''\n",
    "    for key, value in kwargs.items():\n",
    "        globals()[key] = rxd.Parameter(r, name=key, initial=value)\n",
    "\n",
    "\n",
    "def declare_species(**kwargs):\n",
    "    '''enables clean declaration of species in top namespace'''\n",
    "    for key, value in kwargs.items():\n",
    "        globals()[key] = rxd.Species(r, name=key, initial=value, atolscale=1e-3 * nM)"
   ]
  },
  {
   "cell_type": "markdown",
   "metadata": {},
   "source": [
    "We notify NEURON's variable step solver that we want an absolute error tolerance on the order of 1e-3 nM since Leloup et al's concentrations are on the order of 1 nM."
   ]
  },
  {
   "cell_type": "markdown",
   "metadata": {},
   "source": [
    "You don't need to fully understand the code for these functions; their usage will be clear below, and they can be reused verbatim in many similar models."
   ]
  },
  {
   "cell_type": "markdown",
   "metadata": {},
   "source": [
    "Feel free to reuse these functions in your own code if you find them helpful."
   ]
  },
  {
   "cell_type": "markdown",
   "metadata": {},
   "source": [
    "<h2>Define the morphology</h2>\n",
    "\n",
    "Even though this simulation does not use any electrophysiology, we define the <tt>nrn_region</tt> to allow the option of easily connecting to electrophysiology kinetics in the future:"
   ]
  },
  {
   "cell_type": "code",
   "execution_count": null,
   "metadata": {},
   "outputs": [],
   "source": [
    "cell = h.Section(name='cell')\n",
    "cell.diam = cell.L = 5\n",
    "r = rxd.Region([cell], nrn_region='i')"
   ]
  },
  {
   "cell_type": "markdown",
   "metadata": {},
   "source": [
    "<h2>Parameters</h2>\n",
    "\n",
    "Using Parameters instead of numbers makes it easier to rerun simulations. Beginning in NEURON 7.7, the rxd parameters panel allows quickly changing parameter values and rerunning simulations from the graphical user interface.\n",
    "\n",
    "Here we explicitly specify units (defined above) as the units in Leloup et al do not match NEURON's default units. We use the helper function defined above instead of repeatedly writing rxd.Parameter."
   ]
  },
  {
   "cell_type": "code",
   "execution_count": null,
   "metadata": {},
   "outputs": [],
   "source": [
    "declare_parameters(\n",
    "    vsP=1.1 * nM / hour,\n",
    "    vmP=1.0 * nM / hour,\n",
    "    KmP=0.2 * nM,\n",
    "    KIP=1.0 * nM,\n",
    "    ksP=0.9 / hour,\n",
    "    vdP=2.2 * nM / hour,\n",
    "    KdP=0.2 * nM,\n",
    "    vsT=1.0 * nM / hour,\n",
    "    vmT=0.7 * nM / hour,\n",
    "    KmT=0.2 * nM,\n",
    "    KIT=1.0 * nM,\n",
    "    ksT=0.9 / hour,\n",
    "    vdT=3.0 * nM / hour,\n",
    "    KdT=0.2 * nM,\n",
    "    kdC=0.01 * nM / hour,\n",
    "    kdN=0.01 * nM / hour,\n",
    "    k1=0.8 / hour,\n",
    "    k2=0.2 / hour,\n",
    "    k3=1.2 / (nM * hour),\n",
    "    k4=0.6 / hour,\n",
    "    kd=0.01 * nM / hour,\n",
    "    V1P=8.0 * nM / hour,\n",
    "    V1T=8.0 * nM / hour,\n",
    "    V2P=1.0 * nM / hour,\n",
    "    V2T=1.0 * nM / hour,\n",
    "    V3P=8.0 * nM / hour,\n",
    "    V3T=8.0 * nM / hour,\n",
    "    V4P=1.0 * nM / hour,\n",
    "    V4T=1.0 * nM / hour,\n",
    "    K1P=2.0 * nM,\n",
    "    K1T=2.0 * nM,\n",
    "    K2P=2.0 * nM,\n",
    "    K2T=2.0 * nM,\n",
    "    K3P=2.0 * nM,\n",
    "    K3T=2.0 * nM,\n",
    "    K4P=2.0 * nM,\n",
    "    K4T=2.0 * nM,\n",
    "    n=4\n",
    ")"
   ]
  },
  {
   "cell_type": "markdown",
   "metadata": {},
   "source": [
    "<h2>Declaring proteins</h2>\n",
    "\n",
    "As with the parameters, we declare all the protiens (species), their initial values, and units:"
   ]
  },
  {
   "cell_type": "code",
   "execution_count": null,
   "metadata": {},
   "outputs": [],
   "source": [
    "declare_species(\n",
    "    MP=0.0614368 * nM,\n",
    "    P0=0.0169928 * nM,\n",
    "    P1=0.0141356 * nM,\n",
    "    P2=0.0614368 * nM,\n",
    "    MT=0.0860342 * nM,\n",
    "    T0=0.0217261 * nM,\n",
    "    T1=0.0213384 * nM,\n",
    "    T2=0.0145428 * nM,\n",
    "    C=0.207614 * nM,\n",
    "    CN=1.34728 * nM\n",
    ")"
   ]
  },
  {
   "cell_type": "markdown",
   "metadata": {},
   "source": [
    "<h2>Reactions</h2>\n",
    "\n",
    "For the explanation of the model, see Leloup et al., 1999 or Leloup and Goldbeter 1998. Here we define all the reactions for NEURON. For those reactions that are not governed by mass-action kinetics, we specify <tt>custom_dynamics=True</tt>."
   ]
  },
  {
   "cell_type": "code",
   "execution_count": null,
   "metadata": {},
   "outputs": [],
   "source": [
    "MTtranscription = rxd.Rate(MT, vsT * KIT ** n / (KIT ** n + CN ** n))\n",
    "MPtranscription = rxd.Rate(MP, vsP * KIP ** n / (KIP ** n + CN ** n))\n",
    "MTdegradation = rxd.Rate(MT, -(vmT * MT / (KmT + MT) + kd * MT))\n",
    "MPdegradation = rxd.Rate(MP, -(vmP * MP / (KmP + MP) + kd * MP))\n",
    "T0production = rxd.Rate(T0, ksT * MT)\n",
    "T0degradation = rxd.Rate(T0, -kd * T0)\n",
    "T1degradation = rxd.Rate(T1, -kd * T1)\n",
    "T2degradation = rxd.Rate(T2, -kd * T2)\n",
    "T2degradation_due_to_light = rxd.Rate(T2, -vdT * T2 / (KdT + T2))\n",
    "T0toT1 = rxd.Reaction(T0, T1, V1T * T0 / (K1T + T0), V2T * T1 / (K2T + T1), custom_dynamics=True)\n",
    "T1toT2 = rxd.Reaction(T1, T2, V3T * T1 / (K3T + T1), V4T * T2 / (K4T + T2), custom_dynamics=True)\n",
    "P0production = rxd.Rate(P0, ksP * MP)\n",
    "P0degradation = rxd.Rate(P0, -kd * P0)\n",
    "P1degradation = rxd.Rate(P1, -kd * P1)\n",
    "P2degradation = rxd.Rate(P2, -kd * P2 - vdP * P2 / (KdP + P2))\n",
    "P0toP1 = rxd.Reaction(P0, P1, V1P * P0 / (K1P + P0), V2P * P1 / (K2P + P1), custom_dynamics=True)\n",
    "P1toP2 = rxd.Reaction(P1, P2, V3P * P1 / (K3P + P1), V4P * P2 / (K4P + P2), custom_dynamics=True)\n",
    "P2T2toC = rxd.Reaction(P2 + T2, C, k3, k4)\n",
    "CtoCN = rxd.Reaction(C, CN, k1, k2)\n",
    "Cdegradation = rxd.Rate(C, -kdC * C)\n",
    "CNdegradation = rxd.Rate(CN, -kdN * CN)"
   ]
  },
  {
   "cell_type": "markdown",
   "metadata": {},
   "source": [
    "<h2>Record states</h2>\n",
    "\n",
    "We define a number of Vectors to record variables of interest. For convenience we use the <tt>recorder</tt> function defined above:"
   ]
  },
  {
   "cell_type": "markdown",
   "metadata": {},
   "source": [
    "First, and always, we'll record time. Otherwise we won't know how to interpret the remaining variables:"
   ]
  },
  {
   "cell_type": "code",
   "execution_count": null,
   "metadata": {},
   "outputs": [],
   "source": [
    "t = h.Vector().record(h._ref_t)"
   ]
  },
  {
   "cell_type": "markdown",
   "metadata": {},
   "source": [
    "Now the concentrations:"
   ]
  },
  {
   "cell_type": "code",
   "execution_count": null,
   "metadata": {},
   "outputs": [],
   "source": [
    "mpvec = h.Vector().record(MP.nodes[0]._ref_concentration)\n",
    "cnvec = h.Vector().record(CN.nodes[0]._ref_concentration)\n",
    "p0vec = h.Vector().record(P0.nodes[0]._ref_concentration)\n",
    "p1vec = h.Vector().record(P1.nodes[0]._ref_concentration)\n",
    "p2vec = h.Vector().record(P2.nodes[0]._ref_concentration)\n",
    "cvec = h.Vector().record(C.nodes[0]._ref_concentration)"
   ]
  },
  {
   "cell_type": "markdown",
   "metadata": {},
   "source": [
    "<h2>Run the simulation</h2>"
   ]
  },
  {
   "cell_type": "markdown",
   "metadata": {},
   "source": [
    "Since we're running for hours rather than ms, we'll use the variable step solver."
   ]
  },
  {
   "cell_type": "code",
   "execution_count": null,
   "metadata": {},
   "outputs": [],
   "source": [
    "h.finitialize(-65 * mV)\n",
    "h.CVode().active(True)\n",
    "h.continuerun(72 * hour)"
   ]
  },
  {
   "cell_type": "markdown",
   "metadata": {},
   "source": [
    "<h2>Plot</h2>\n",
    "\n",
    "We begin by converting the units back from NEURON's units to nM and hours to have more intuitive values to display. We also define the variable <tt>pt</tt> which is the total concentration of PER protein, in any of its forms:"
   ]
  },
  {
   "cell_type": "code",
   "execution_count": null,
   "metadata": {},
   "outputs": [],
   "source": [
    "pt = (p0vec + p1vec + p2vec + cvec + cnvec) / nM\n",
    "mp = mpvec / nM\n",
    "cn = cnvec / nM\n",
    "t_in_hours = t / hour"
   ]
  },
  {
   "cell_type": "markdown",
   "metadata": {},
   "source": [
    "Finally the actual plot, which you can compare to Figure 2A of Leloup et al., 1999."
   ]
  },
  {
   "cell_type": "code",
   "execution_count": null,
   "metadata": {},
   "outputs": [],
   "source": [
    "plt.figure(figsize=(8, 6))\n",
    "plt.plot(t_in_hours, mp, label='MP')\n",
    "plt.plot(t_in_hours, cn, label='CN')\n",
    "plt.plot(t_in_hours, pt, label='PT')\n",
    "plt.legend()\n",
    "plt.xlabel('t (hours)')\n",
    "plt.ylabel('concentration (nM)')\n",
    "plt.savefig('circadian.pdf')\n",
    "plt.show()"
   ]
  }
 ],
 "metadata": {
  "colab": {
   "name": "circadian.ipynb",
   "provenance": []
  },
  "kernelspec": {
   "display_name": "Python 3",
   "language": "python",
   "name": "python3"
  },
  "language_info": {
   "codemirror_mode": {
    "name": "ipython",
    "version": 3
   },
   "file_extension": ".py",
   "mimetype": "text/x-python",
   "name": "python",
   "nbconvert_exporter": "python",
   "pygments_lexer": "ipython3",
   "version": "3.8.3"
  }
 },
 "nbformat": 4,
 "nbformat_minor": 1
}
