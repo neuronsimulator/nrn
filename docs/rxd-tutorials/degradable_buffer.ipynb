{
 "cells": [
  {
   "cell_type": "markdown",
   "metadata": {},
   "source": [
    "Calcium is heavily buffered in cells, as it is a major second messenger molecule. \n",
    "\n",
    "<h2>Calbindin D<sub>28K</sub> dynamics</h2>\n",
    "\n",
    "The calcium buffering protein Calbindin D<sub>28K</sub> has 6 <a href=\"https://en.wikipedia.org/wiki/EF_hand\">EF-hands</a>, four of which are active calcium ion binding sites. These sites are not equally active. A calcium ion is not free to bind to any of the sites equally. Instead, calcium ions are bound in sequence: 1, 4, 5, 3 with the last binding having the lowest affinity.\n",
    "(<a href=\"https://doi.org/10.1016/S0003-2697(03)00084-8\">Venters et al., 2003</a>.)\n",
    "\n",
    "(To be clear, these dynamics are not representative of all calcium buffers; Parvalbumin and Calbindin D<sub>9K</sub> show little conformational change when carrying calcium.)"
   ]
  },
  {
   "cell_type": "markdown",
   "metadata": {},
   "source": [
    "$$\\mathrm{Ca} + \\mathrm{Calbindin_0} \\rightleftharpoons \\mathrm{Calbindin_1}$$\n",
    "$$\\mathrm{Ca} + \\mathrm{Calbindin_1} \\rightleftharpoons \\mathrm{Calbindin_{14}}$$\n",
    "$$\\mathrm{Ca} + \\mathrm{Calbindin_{14}} \\rightleftharpoons \\mathrm{Calbindin_{145}}$$\n",
    "$$\\mathrm{Ca} + \\mathrm{Calbindin_{145}} \\rightleftharpoons \\mathrm{Calbindin_{1453}}$$"
   ]
  },
  {
   "cell_type": "markdown",
   "metadata": {},
   "source": [
    "<h2>A model</h2>\n",
    "\n",
    "For our model, let us suppose that instead of calbindin D<sub>28K</sub> specifically, which has its own very specific binding affinities, we have some arbitrary buffer <tt>buf</tt> that also has 4 binding sites that load sequentially."
   ]
  },
  {
   "cell_type": "code",
   "execution_count": null,
   "metadata": {},
   "outputs": [],
   "source": [
    "from neuron import h, rxd"
   ]
  },
  {
   "cell_type": "code",
   "execution_count": null,
   "metadata": {},
   "outputs": [],
   "source": [
    "# where\n",
    "soma = h.Section(name='soma')\n",
    "cyt = rxd.Region([soma], nrn_region='i')\n",
    "# who\n",
    "ca = rxd.Species(cyt, name='ca', charge=2, initial=1e-4)\n",
    "buf = rxd.Species(cyt, name='buf', initial=1e-4)\n",
    "cabuf = rxd.Species(cyt, name='cab2uf', initial=0)\n",
    "# what\n",
    "buffering = rxd.Reaction(2 * ca + buf, cabuf, 1e6, 1e-2)\n",
    "degradation = rxd.Rate(buf, -1e-3 * buf)"
   ]
  },
  {
   "cell_type": "markdown",
   "metadata": {},
   "source": [
    "For versions of NEURON before 7.7, we need to initialize the simulation here to enable using pointers for\n"
   ]
  },
  {
   "cell_type": "markdown",
   "metadata": {},
   "source": [
    "Let's set up some recording:"
   ]
  },
  {
   "cell_type": "code",
   "execution_count": null,
   "metadata": {},
   "outputs": [],
   "source": [
    "t = h.Vector()\n",
    "ca_vec = h.Vector()\n",
    "buf_vec = h.Vector()\n",
    "t.record(h._ref_t)\n",
    "ca_vec.record(soma(0.5)._ref_cai)\n",
    "buf_vec.record(soma(0.5)._ref_bufi)"
   ]
  },
  {
   "cell_type": "markdown",
   "metadata": {},
   "source": [
    "A more realistic model would include "
   ]
  }
 ],
 "metadata": {
  "kernelspec": {
   "display_name": "Python 3",
   "language": "python",
   "name": "python3"
  },
  "language_info": {
   "codemirror_mode": {
    "name": "ipython",
    "version": 3
   },
   "file_extension": ".py",
   "mimetype": "text/x-python",
   "name": "python",
   "nbconvert_exporter": "python",
   "pygments_lexer": "ipython3",
   "version": "3.7.7"
  }
 },
 "nbformat": 4,
 "nbformat_minor": 2
}
